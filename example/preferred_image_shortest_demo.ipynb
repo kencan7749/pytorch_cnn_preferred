{
 "cells": [
  {
   "cell_type": "code",
   "execution_count": null,
   "metadata": {},
   "outputs": [],
   "source": [
    "# module import\n",
    "import os\n",
    "import sys\n",
    "\n",
    "import numpy as np\n",
    "import PIL.Image\n",
    "import torch\n",
    "import torchvision\n",
    "                \n",
    "sys.path.append('../cnn_preferred')\n",
    "from utils import get_cnn_features, normalise_img\n",
    "from activation_maximization import generate_preferred"
   ]
  },
  {
   "cell_type": "code",
   "execution_count": null,
   "metadata": {},
   "outputs": [],
   "source": [
    "# step1: load network\n",
    "net = torchvision.models.alexnet(pretrained=True)\n",
    "net.eval()"
   ]
  },
  {
   "cell_type": "code",
   "execution_count": null,
   "metadata": {},
   "outputs": [],
   "source": [
    "# before step2, visualize the network to understand network archtecture\n",
    "print(net)"
   ]
  },
  {
   "cell_type": "code",
   "execution_count": 4,
   "metadata": {},
   "outputs": [],
   "source": [
    "# step2: set target layer and the channel to visualise\n",
    "# Set target layer like...\n",
    "## target_layer = \"features[8]\"\n",
    "target_layer = \"classifier[6]\"\n",
    "## target_layer = \"features[10]\"\n",
    "\n",
    "#target layer setting to run by \"exec\" function\n",
    "target_layer_list = [target_layer]\n",
    "# set the target channel\n",
    "target_channel = 11"
   ]
  },
  {
   "cell_type": "code",
   "execution_count": null,
   "metadata": {},
   "outputs": [],
   "source": [
    "# step3: perform activation maximization\n",
    "preferred_stim = generate_preferred(net, target_layer_list, target_channel)"
   ]
  },
  {
   "cell_type": "code",
   "execution_count": null,
   "metadata": {},
   "outputs": [],
   "source": [
    "# step4: save the preferred image\n",
    "save_name = 'demo.jpg'\n",
    "PIL.Image.fromarray(normalise_img(preferred_stim)).save(save_name)"
   ]
  }
 ],
 "metadata": {
  "kernelspec": {
   "display_name": "Python 3",
   "language": "python",
   "name": "python3"
  },
  "language_info": {
   "codemirror_mode": {
    "name": "ipython",
    "version": 3
   },
   "file_extension": ".py",
   "mimetype": "text/x-python",
   "name": "python",
   "nbconvert_exporter": "python",
   "pygments_lexer": "ipython3",
   "version": "3.6.4"
  }
 },
 "nbformat": 4,
 "nbformat_minor": 2
}
